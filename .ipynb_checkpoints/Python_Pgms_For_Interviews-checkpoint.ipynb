{
 "cells": [
  {
   "cell_type": "code",
   "execution_count": 9,
   "id": "5236a064",
   "metadata": {},
   "outputs": [
    {
     "name": "stdout",
     "output_type": "stream",
     "text": [
      "abba\n",
      "Given string is palindrome\n"
     ]
    }
   ],
   "source": [
    "## Python programme to find whether the given string is palindrome or not\n",
    "\n",
    "def is_palindrome(s):\n",
    "    if s == s[::-1]:\n",
    "        print(\"Given string is palindrome\")\n",
    "    else:\n",
    "        print(\"Given string is not palindrome\")\n",
    "\n",
    "s = \"abba\"\n",
    "is_palindrome(s)"
   ]
  },
  {
   "cell_type": "code",
   "execution_count": 1,
   "id": "533af2ca",
   "metadata": {},
   "outputs": [],
   "source": [
    "my_dict = {\"apple\": 10, \"banana\": 20, \"cherry\": 5, \"orange\": 15, \"mango\": 7}"
   ]
  },
  {
   "cell_type": "code",
   "execution_count": 2,
   "id": "1a82a5ab",
   "metadata": {},
   "outputs": [
    {
     "name": "stdout",
     "output_type": "stream",
     "text": [
      "{1: 2, 2: 2, 333: 1, 'aa': 1, 'dddd': 1, 'a@123': 1, 'airport': 7, 9: 1, '@': 4}\n"
     ]
    },
    {
     "data": {
      "text/plain": [
       "{1: 2,\n",
       " 2: 2,\n",
       " 333: 1,\n",
       " 'aa': 1,\n",
       " 'dddd': 1,\n",
       " 'a@123': 1,\n",
       " 'airport': 7,\n",
       " 9: 1,\n",
       " '@': 4}"
      ]
     },
     "execution_count": 2,
     "metadata": {},
     "output_type": "execute_result"
    }
   ],
   "source": [
    "## frequency of each and every element from list of elements\n",
    "\n",
    "\n",
    "# below code we can calculate the frequency by using inbuilt library\n",
    "from collections import Counter\n",
    "\n",
    "lst = [1,2,2,1,333,'aa','dddd','a@123', 'airport',9, 'airport', 'airport', 'airport', 'airport','@','@','@','@', 'airport', 'airport']\n",
    "\n",
    "count_dict = dict(Counter(lst))\n",
    "\n",
    "print(count_dict)\n",
    "\n",
    "#for key, value in count_dict.items():\n",
    "#    print(f\"{key}: {value}\")"
   ]
  },
  {
   "cell_type": "code",
   "execution_count": 3,
   "id": "ffc348af",
   "metadata": {},
   "outputs": [
    {
     "name": "stdout",
     "output_type": "stream",
     "text": [
      "{1: 2, 2: 2, 333: 1, 'aa': 1, 'dddd': 1, 'a@123': 1, 'airport': 7, 9: 1, '@': 4}\n"
     ]
    }
   ],
   "source": [
    "# below code we can calculate the frequency without using inbuilt library\n",
    "\n",
    "lst = [1,2,2,1,333,'aa','dddd','a@123', 'airport',9, 'airport', 'airport', 'airport', 'airport','@','@','@','@', 'airport', 'airport']\n",
    "\n",
    "count_dict = {}\n",
    "\n",
    "for elem in lst:\n",
    "    if elem in count_dict:\n",
    "        count_dict[elem] += 1\n",
    "    else:\n",
    "        count_dict[elem] = 1\n",
    "print(count_dict)"
   ]
  },
  {
   "cell_type": "code",
   "execution_count": 1,
   "id": "0d11a052",
   "metadata": {},
   "outputs": [
    {
     "name": "stdout",
     "output_type": "stream",
     "text": [
      "20\n"
     ]
    }
   ],
   "source": [
    "my_dict = {'a': 10, 'b': 5, 'c': 20}\n",
    "max_value = max(my_dict.values())\n",
    "print(max_value) "
   ]
  },
  {
   "cell_type": "code",
   "execution_count": 2,
   "id": "370f5be9",
   "metadata": {},
   "outputs": [
    {
     "name": "stdout",
     "output_type": "stream",
     "text": [
      "[5, 10, 20]\n"
     ]
    }
   ],
   "source": [
    "# for sorting of values in dictionary\n",
    "sorted_values = sorted(my_dict.values())\n",
    "print(sorted_values)"
   ]
  },
  {
   "cell_type": "code",
   "execution_count": 5,
   "id": "9634ff98",
   "metadata": {},
   "outputs": [
    {
     "data": {
      "text/plain": [
       "{'b': 5, 'a': 10, 'c': 20}"
      ]
     },
     "execution_count": 5,
     "metadata": {},
     "output_type": "execute_result"
    }
   ],
   "source": [
    "# sorting the dictionary\n",
    "my_dict = {'a': 10, 'b': 5, 'c': 20}\n",
    "sorted_dict = dict(sorted(my_dict.items(), key=lambda x: x[1]))\n",
    "sorted_dict"
   ]
  },
  {
   "cell_type": "code",
   "execution_count": null,
   "id": "ed15b68e",
   "metadata": {},
   "outputs": [],
   "source": []
  },
  {
   "cell_type": "code",
   "execution_count": null,
   "id": "32a7b2c3",
   "metadata": {},
   "outputs": [],
   "source": []
  },
  {
   "cell_type": "code",
   "execution_count": 24,
   "id": "cd30b1df",
   "metadata": {},
   "outputs": [
    {
     "name": "stdout",
     "output_type": "stream",
     "text": [
      "b\n",
      "ba\n",
      "bab\n",
      "this sub string is palindrome bab\n",
      "baba\n",
      "babad\n",
      "a\n",
      "ab\n",
      "aba\n",
      "this sub string is palindrome aba\n",
      "abad\n",
      "b\n",
      "ba\n",
      "bad\n",
      "a\n",
      "ad\n",
      "d\n",
      "The longest palindrome in babad is bab\n",
      "['bab', 'aba']\n",
      "bab\n"
     ]
    }
   ],
   "source": [
    "## Python programme to print longest palindrome substring from the given string\n",
    "\n",
    "\"\"\"\n",
    "    Returns the longest palindrome substring from the given string s.\n",
    "    \"\"\"\n",
    "def longest_palindrome(s):    \n",
    "    longest = \"\"\n",
    "    palindromes = []\n",
    "    for i in range(len(s)):\n",
    "        for j in range(i+1, len(s)+1):\n",
    "            sub_str = s[i:j]\n",
    "            print(sub_str)\n",
    "            if len(sub_str)>1:    \n",
    "                # Check if substring s[i:j] is a palindrome\n",
    "                if sub_str == sub_str[::-1]:\n",
    "                    print(\"this sub string is palindrome\", sub_str)\n",
    "                    palindromes.append(sub_str)\n",
    "                    # If the current palindrome is longer than the previous one, update longest\n",
    "                    if len(s[i:j]) > len(longest):\n",
    "                        longest = s[i:j]                     \n",
    "    return longest, palindromes\n",
    "\n",
    "\n",
    "s = \"babad\"\n",
    "longest, palindromes = longest_palindrome(s)\n",
    "print(\"The longest palindrome in\", s, \"is\", longest)\n",
    "print(palindromes)\n",
    "print(max(palindromes, key=len))"
   ]
  },
  {
   "cell_type": "code",
   "execution_count": null,
   "id": "b5db7682",
   "metadata": {},
   "outputs": [],
   "source": []
  }
 ],
 "metadata": {
  "kernelspec": {
   "display_name": "Python 3",
   "language": "python",
   "name": "python3"
  },
  "language_info": {
   "codemirror_mode": {
    "name": "ipython",
    "version": 3
   },
   "file_extension": ".py",
   "mimetype": "text/x-python",
   "name": "python",
   "nbconvert_exporter": "python",
   "pygments_lexer": "ipython3",
   "version": "3.7.13"
  }
 },
 "nbformat": 4,
 "nbformat_minor": 5
}
